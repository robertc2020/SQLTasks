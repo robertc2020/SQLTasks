{
 "cells": [
  {
   "cell_type": "markdown",
   "metadata": {},
   "source": [
    "## Country Club queries, Part 2"
   ]
  },
  {
   "cell_type": "markdown",
   "metadata": {},
   "source": [
    "Let's first prepare the database access, and list tables from the database:"
   ]
  },
  {
   "cell_type": "code",
   "execution_count": 2,
   "metadata": {},
   "outputs": [
    {
     "name": "stdout",
     "output_type": "stream",
     "text": [
      "['Bookings', 'Facilities', 'Members']\n"
     ]
    }
   ],
   "source": [
    "from sqlalchemy import create_engine\n",
    "\n",
    "# Create engine and open engine connection\n",
    "# To connect to a local file, see: \n",
    "# https://docs.sqlalchemy.org/en/13/core/engines.html#sqlite\n",
    "#\n",
    "engine = create_engine('sqlite:///sqlite_db_pythonsqlite.db')\n",
    "con = engine.connect()\n",
    "\n",
    "print(engine.table_names())"
   ]
  },
  {
   "cell_type": "markdown",
   "metadata": {},
   "source": [
    "To recall the table content. let's print out the first few entries of those tables:"
   ]
  },
  {
   "cell_type": "code",
   "execution_count": 30,
   "metadata": {},
   "outputs": [
    {
     "name": "stdout",
     "output_type": "stream",
     "text": [
      "['bookid', 'facid', 'memid', 'starttime', 'slots']\n"
     ]
    },
    {
     "data": {
      "text/plain": [
       "[(0, 3, 1, '2012-07-03 11:00:00', 2),\n",
       " (1, 4, 1, '2012-07-03 08:00:00', 2),\n",
       " (2, 6, 0, '2012-07-03 18:00:00', 2),\n",
       " (3, 7, 1, '2012-07-03 19:00:00', 2),\n",
       " (4, 8, 1, '2012-07-03 10:00:00', 1)]"
      ]
     },
     "execution_count": 30,
     "metadata": {},
     "output_type": "execute_result"
    }
   ],
   "source": [
    "rs = con.execute(\"SELECT * FROM Bookings LIMIT 5\")\n",
    "print(rs.keys())\n",
    "rs.fetchall()"
   ]
  },
  {
   "cell_type": "code",
   "execution_count": 29,
   "metadata": {},
   "outputs": [
    {
     "name": "stdout",
     "output_type": "stream",
     "text": [
      "['facid', 'name', 'membercost', 'guestcost', 'initialoutlay', 'monthlymaintenance']\n"
     ]
    },
    {
     "data": {
      "text/plain": [
       "[(0, 'Tennis Court 1', 5, 25, 10000, 200),\n",
       " (1, 'Tennis Court 2', 5, 25, 8000, 200),\n",
       " (2, 'Badminton Court', 0, 15.5, 4000, 50),\n",
       " (3, 'Table Tennis', 0, 5, 320, 10),\n",
       " (4, 'Massage Room 1', 9.9, 80, 4000, 3000)]"
      ]
     },
     "execution_count": 29,
     "metadata": {},
     "output_type": "execute_result"
    }
   ],
   "source": [
    "rs = con.execute(\"SELECT * FROM Facilities LIMIT 5\")\n",
    "print(rs.keys())\n",
    "rs.fetchall()"
   ]
  },
  {
   "cell_type": "code",
   "execution_count": 35,
   "metadata": {},
   "outputs": [
    {
     "name": "stdout",
     "output_type": "stream",
     "text": [
      "['memid', 'surname', 'firstname', 'address', 'zipcode', 'telephone', 'recommendedby', 'joindate']\n"
     ]
    },
    {
     "data": {
      "text/plain": [
       "[(0, 'GUEST', 'GUEST', 'GUEST', 0, '(000) 000-0000', '', '2012-07-01 00:00:00'),\n",
       " (1, 'Smith', 'Darren', '8 Bloomsbury Close, Boston', 4321, '555-555-5555', '', '2012-07-02 12:02:05'),\n",
       " (2, 'Smith', 'Tracy', '8 Bloomsbury Close, New York', 4321, '555-555-5555', '', '2012-07-02 12:08:23'),\n",
       " (3, 'Rownam', 'Tim', '23 Highway Way, Boston', 23423, '(844) 693-0723', '', '2012-07-03 09:32:15'),\n",
       " (4, 'Joplette', 'Janice', '20 Crossing Road, New York', 234, '(833) 942-4710', '1', '2012-07-03 10:25:05')]"
      ]
     },
     "execution_count": 35,
     "metadata": {},
     "output_type": "execute_result"
    }
   ],
   "source": [
    "rs = con.execute(\"SELECT * FROM Members LIMIT 5\")\n",
    "print(rs.keys())\n",
    "rs.fetchall()"
   ]
  },
  {
   "cell_type": "markdown",
   "metadata": {},
   "source": [
    "Cool. Now we're ready to answer the questions. "
   ]
  },
  {
   "cell_type": "markdown",
   "metadata": {},
   "source": [
    "Q10: Produce a list of facilities with a total revenue less than 1000.\n",
    "The output of facility name and total revenue, sorted by revenue. Remember\n",
    "that there's a different cost for guests and members!"
   ]
  },
  {
   "cell_type": "code",
   "execution_count": 59,
   "metadata": {},
   "outputs": [
    {
     "name": "stdout",
     "output_type": "stream",
     "text": [
      "['facility_name', 'revenue']\n"
     ]
    },
    {
     "data": {
      "text/plain": [
       "[('Table Tennis', 180), ('Snooker Table', 240), ('Pool Table', 270)]"
      ]
     },
     "execution_count": 59,
     "metadata": {},
     "output_type": "execute_result"
    }
   ],
   "source": [
    "query=\"\"\"with cte as (SELECT name,\n",
    "CASE WHEN memid = 0 THEN slots * guestcost\n",
    "ELSE slots * membercost END AS cost\n",
    "FROM Bookings\n",
    "INNER JOIN Facilities\n",
    "USING ( facid ) )\n",
    "\n",
    "SELECT name as facility_name, sum(cost) as revenue\n",
    "FROM cte\n",
    "GROUP BY name\n",
    "HAVING(revenue < 1000)\n",
    "ORDER BY revenue\n",
    "\"\"\"\n",
    "rs = con.execute(query)\n",
    "print(rs.keys())\n",
    "rs.fetchall()"
   ]
  },
  {
   "cell_type": "markdown",
   "metadata": {},
   "source": [
    "Q11: Produce a report of members and who recommended them in alphabetic surname,firstname order"
   ]
  },
  {
   "cell_type": "code",
   "execution_count": 64,
   "metadata": {},
   "outputs": [
    {
     "name": "stdout",
     "output_type": "stream",
     "text": [
      "['surname', 'firstname', 'recommended_by']\n"
     ]
    },
    {
     "data": {
      "text/plain": [
       "[('Bader', 'Florence', 'Stibbons Ponder'),\n",
       " ('Baker', 'Anne', 'Stibbons Ponder'),\n",
       " ('Baker', 'Timothy', 'Farrell Jemima'),\n",
       " ('Boothe', 'Tim', 'Rownam Tim'),\n",
       " ('Butters', 'Gerald', 'Smith Darren'),\n",
       " ('Coplin', 'Joan', 'Baker Timothy'),\n",
       " ('Crumpet', 'Erica', 'Smith Tracy'),\n",
       " ('Dare', 'Nancy', 'Joplette Janice'),\n",
       " ('Farrell', 'David', None),\n",
       " ('Farrell', 'Jemima', None),\n",
       " ('Genting', 'Matthew', 'Butters Gerald'),\n",
       " ('Hunt', 'John', 'Purview Millicent'),\n",
       " ('Jones', 'David', 'Joplette Janice'),\n",
       " ('Jones', 'Douglas', 'Jones David'),\n",
       " ('Joplette', 'Janice', 'Smith Darren'),\n",
       " ('Mackenzie', 'Anna', 'Smith Darren'),\n",
       " ('Owen', 'Charles', 'Smith Darren'),\n",
       " ('Pinker', 'David', 'Farrell Jemima'),\n",
       " ('Purview', 'Millicent', 'Smith Tracy'),\n",
       " ('Rownam', 'Tim', None),\n",
       " ('Rumney', 'Henrietta', 'Genting Matthew'),\n",
       " ('Sarwin', 'Ramnaresh', 'Bader Florence'),\n",
       " ('Smith', 'Darren', None),\n",
       " ('Smith', 'Darren', None),\n",
       " ('Smith', 'Jack', 'Smith Darren'),\n",
       " ('Smith', 'Tracy', None),\n",
       " ('Stibbons', 'Ponder', 'Tracy Burton'),\n",
       " ('Tracy', 'Burton', None),\n",
       " ('Tupperware', 'Hyacinth', None),\n",
       " ('Worthington-Smyth', 'Henry', 'Smith Tracy')]"
      ]
     },
     "execution_count": 64,
     "metadata": {},
     "output_type": "execute_result"
    }
   ],
   "source": [
    "query=\"\"\"SELECT m1.surname,m1.firstname, \n",
    "         m2.surname || \" \" || m2.firstname as recommended_by\n",
    "FROM Members as m1\n",
    "LEFT JOIN Members as m2\n",
    "ON m1.recommendedby = m2.memid\n",
    "WHERE m1.surname <> \"GUEST\"\n",
    "ORDER BY m1.surname,m1.firstname\n",
    "\"\"\"\n",
    "rs = con.execute(query)\n",
    "print(rs.keys())\n",
    "rs.fetchall()"
   ]
  },
  {
   "cell_type": "markdown",
   "metadata": {},
   "source": [
    "Q12: Find the facilities with their usage by member, but not guests"
   ]
  },
  {
   "cell_type": "code",
   "execution_count": 78,
   "metadata": {},
   "outputs": [
    {
     "name": "stdout",
     "output_type": "stream",
     "text": [
      "['name', 'usage_by_member']\n"
     ]
    },
    {
     "data": {
      "text/plain": [
       "[('Pool Table', 783),\n",
       " ('Snooker Table', 421),\n",
       " ('Massage Room 1', 421),\n",
       " ('Table Tennis', 385),\n",
       " ('Badminton Court', 344),\n",
       " ('Tennis Court 1', 308),\n",
       " ('Tennis Court 2', 276),\n",
       " ('Squash Court', 195),\n",
       " ('Massage Room 2', 27)]"
      ]
     },
     "execution_count": 78,
     "metadata": {},
     "output_type": "execute_result"
    }
   ],
   "source": [
    "query=\"\"\"SELECT name,count(memid) as usage_by_member\n",
    "FROM Bookings\n",
    "INNER JOIN Facilities\n",
    "USING (facid)\n",
    "WHERE memid <> 0\n",
    "GROUP BY name\n",
    "ORDER BY usage_by_member DESC\n",
    "\"\"\"\n",
    "rs = con.execute(query)\n",
    "print(rs.keys())\n",
    "rs.fetchall()"
   ]
  },
  {
   "cell_type": "markdown",
   "metadata": {},
   "source": [
    "All 9 facilities were used by members, the Pool Table was the most popular and used 783 times. The Massage Room 2 was the least popular."
   ]
  },
  {
   "cell_type": "markdown",
   "metadata": {},
   "source": [
    "Q13: Find the facilities usage by month, but not guests"
   ]
  },
  {
   "cell_type": "code",
   "execution_count": 85,
   "metadata": {},
   "outputs": [
    {
     "name": "stdout",
     "output_type": "stream",
     "text": [
      "['name', 'month', 'usage_by_member']\n"
     ]
    },
    {
     "data": {
      "text/plain": [
       "[('Pool Table', '09', 408),\n",
       " ('Pool Table', '08', 272),\n",
       " ('Snooker Table', '09', 199),\n",
       " ('Table Tennis', '09', 194),\n",
       " ('Massage Room 1', '09', 191),\n",
       " ('Badminton Court', '09', 161),\n",
       " ('Snooker Table', '08', 154),\n",
       " ('Massage Room 1', '08', 153),\n",
       " ('Table Tennis', '08', 143),\n",
       " ('Badminton Court', '08', 132),\n",
       " ('Tennis Court 1', '09', 132),\n",
       " ('Tennis Court 2', '09', 126),\n",
       " ('Tennis Court 1', '08', 111),\n",
       " ('Tennis Court 2', '08', 109),\n",
       " ('Pool Table', '07', 103),\n",
       " ('Squash Court', '09', 87),\n",
       " ('Squash Court', '08', 85),\n",
       " ('Massage Room 1', '07', 77),\n",
       " ('Snooker Table', '07', 68),\n",
       " ('Tennis Court 1', '07', 65),\n",
       " ('Badminton Court', '07', 51),\n",
       " ('Table Tennis', '07', 48),\n",
       " ('Tennis Court 2', '07', 41),\n",
       " ('Squash Court', '07', 23),\n",
       " ('Massage Room 2', '09', 14),\n",
       " ('Massage Room 2', '08', 9),\n",
       " ('Massage Room 2', '07', 4)]"
      ]
     },
     "execution_count": 85,
     "metadata": {},
     "output_type": "execute_result"
    }
   ],
   "source": [
    "query=\"\"\"SELECT name, strftime('%m', starttime) as month, count(memid) as usage_by_member\n",
    "FROM Bookings\n",
    "INNER JOIN Facilities\n",
    "USING (facid)\n",
    "WHERE memid <> 0\n",
    "GROUP BY name,month\n",
    "ORDER BY usage_by_member DESC\n",
    "\"\"\"\n",
    "rs = con.execute(query)\n",
    "print(rs.keys())\n",
    "rs.fetchall()"
   ]
  },
  {
   "cell_type": "markdown",
   "metadata": {},
   "source": [
    "The pool table had the highest monthly rate by member, it was booked 408 times in September 2012 (the data cover 3 months in 2012 - Jul, Aug, and Sep)."
   ]
  }
 ],
 "metadata": {
  "kernelspec": {
   "display_name": "Python 3",
   "language": "python",
   "name": "python3"
  },
  "language_info": {
   "codemirror_mode": {
    "name": "ipython",
    "version": 3
   },
   "file_extension": ".py",
   "mimetype": "text/x-python",
   "name": "python",
   "nbconvert_exporter": "python",
   "pygments_lexer": "ipython3",
   "version": "3.8.3"
  }
 },
 "nbformat": 4,
 "nbformat_minor": 4
}
